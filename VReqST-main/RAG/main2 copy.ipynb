{
 "cells": [
  {
   "cell_type": "code",
   "execution_count": 1,
   "metadata": {},
   "outputs": [],
   "source": [
    "import getpass\n",
    "import os\n",
    "import json\n",
    "\n",
    "os.environ[\"OPENAI_API_KEY\"] = getpass.getpass()\n",
    "\n",
    "from langchain_openai import ChatOpenAI\n",
    "\n",
    "llm = ChatOpenAI(model=\"gpt-4o-mini\")"
   ]
  },
  {
   "cell_type": "code",
   "execution_count": 2,
   "metadata": {},
   "outputs": [],
   "source": [
    "\n",
    "from langchain import hub\n",
    "from langchain_chroma import Chroma\n",
    "from langchain_core.output_parsers import StrOutputParser\n",
    "from langchain_core.runnables import RunnablePassthrough\n",
    "from langchain_openai import OpenAIEmbeddings\n",
    "from langchain_text_splitters import RecursiveCharacterTextSplitter\n",
    "\n",
    "from langchain_community.document_loaders import PyPDFLoader\n",
    "from langchain_text_splitters import RecursiveCharacterTextSplitter\n",
    "from langchain_chroma import Chroma\n",
    "from langchain_openai import OpenAIEmbeddings\n",
    "\n",
    "loader = PyPDFLoader(\"./chess.pdf\")\n",
    "docs = loader.load()\n",
    "\n",
    "text_splitter = RecursiveCharacterTextSplitter(chunk_size=1000, chunk_overlap=200)\n",
    "splits = text_splitter.split_documents(docs)\n",
    "\n",
    "def format_docs(docs):\n",
    "    return \"\\n\\n\".join(doc.page_content for doc in docs)\n"
   ]
  },
  {
   "cell_type": "code",
   "execution_count": 11,
   "metadata": {},
   "outputs": [
    {
     "name": "stdout",
     "output_type": "stream",
     "text": [
      "5775\n"
     ]
    }
   ],
   "source": [
    "text = format_docs(docs)\n",
    "\n",
    "import tiktoken\n",
    "model = \"gpt-4\"\n",
    "encoding = tiktoken.encoding_for_model(model)\n",
    "\n",
    "tokens = encoding.encode(text)\n",
    "token_count = len(tokens)\n",
    "\n",
    "print(token_count)"
   ]
  },
  {
   "cell_type": "code",
   "execution_count": 3,
   "metadata": {},
   "outputs": [
    {
     "name": "stderr",
     "output_type": "stream",
     "text": [
      "/home/amogha/.local/lib/python3.10/site-packages/langsmith/client.py:234: LangSmithMissingAPIKeyWarning: API key must be provided when using hosted LangSmith API\n",
      "  warnings.warn(\n"
     ]
    }
   ],
   "source": [
    "vectorstore = Chroma.from_documents(documents=splits, embedding=OpenAIEmbeddings())\n",
    "\n",
    "retriever = vectorstore.as_retriever()\n",
    "prompt = hub.pull(\"rlm/rag-prompt\")\n"
   ]
  },
  {
   "cell_type": "code",
   "execution_count": 4,
   "metadata": {},
   "outputs": [],
   "source": [
    "with open(\"scene.json\") as scene_file, open(\"scene-validator.json\") as validator_file:\n",
    "    scene_data = json.load(scene_file)\n",
    "    validator_data = json.load(validator_file)\n",
    "\n",
    "\n",
    "def generate_question_for_field(field_name, validation_rules):\n",
    "    typeof = validation_rules.get(\"typeof\", \"text\")\n",
    "    query = validation_rules.get(\"query\", f\"Please provide the value for {field_name}\")\n",
    "    comment = validation_rules.get(\"%comment%\", \"\")\n",
    "    \n",
    "    question = f\"{query} (Expected type: {typeof})?\"\n",
    "    if comment:\n",
    "        question += f\" Note: {comment}\"\n",
    "    \n",
    "    if typeof == \"object\":\n",
    "        question = f\"How many {query}? Please provide details for each. {comment}\"\n",
    "    \n",
    "    return question\n",
    "\n",
    "questions = {\n",
    "    field: generate_question_for_field(field, rules)\n",
    "    for field, rules in validator_data.items()\n",
    "}"
   ]
  },
  {
   "cell_type": "code",
   "execution_count": 5,
   "metadata": {},
   "outputs": [
    {
     "name": "stdout",
     "output_type": "stream",
     "text": [
      "{'_scenename': 'Please provide the value for _scenename (Expected type: string)? Note: Mention your VR Scene name here', '_sid': 'Please provide the value for _sid (Expected type: string)? Note: A fillable Unique Identifier of the scene', '_slabel': 'Please provide the value for _slabel (Expected type: string)? Note: A fillable Optional text field for scene description in 200 words', '#pid': 'Please provide the value for #pid (Expected type: string)? Note: Unique identifier for playarea in the VR Scene', '#length_playarea': 'Please provide the value for #length_playarea (Expected type: string)? Note: Length dimension of the playarea and it is mandatory value tag', '#breadth_playarea': 'Please provide the value for #breadth_playarea (Expected type: string)? Note: Breadth dimension of the playarea and it is mandatory value tag', '#height_playarea': 'Please provide the value for #height_playarea (Expected type: string)? Note: Height dimension of the playarea and it is mandatory value tag', '#x_scenecenter': 'Please provide the value for #x_scenecenter (Expected type: number)? Note: x-axis value of scene center of the playarea and it is mandatory value tag', '#y_scenecenter': 'Please provide the value for #y_scenecenter (Expected type: number)? Note: y-axis value of scene center of the playarea and it is mandatory value tag', '#z_scenecenter': 'Please provide the value for #z_scenecenter (Expected type: number)? Note: z-axis value of scene center of the playarea and it is mandatory value tag', 'IsSceneObject': 'Please provide the value for IsSceneObject (Expected type: boolean)? Note: true for yes, false for no. This is to set initial camera in the scene. Additional attributes include IsSceneObject which holds boolean value and trackingorigin holds string value i.e. either floor (physical real-world ground) or +/- height from the physical real-world ground. Example: 5+floor', 'trackingorigin': 'Please provide the value for trackingorigin (Expected type: string)? Note: true for yes, false for no. This is to set initial camera in the scene. Additional attributes include IsSceneObject which holds boolean value and trackingorigin holds string value i.e. either floor (physical real-world ground) or +/- height from the physical real-world ground. Example: 5+floor', '#x_initialcamerapos': 'Please provide the value for #x_initialcamerapos (Expected type: number)? Note: x-axis value of initial camera position of the playarea and it is mandatory value tag', '#y_initialcamerapos': 'Please provide the value for #y_initialcamerapos (Expected type: number)? Note: y-axis value of initial camera position of the playarea and it is mandatory value tag', '#z_initialcamerapos': 'Please provide the value for #z_initialcamerapos (Expected type: number)? Note: z-axis value of initial camera position of the playarea and it is mandatory value tag', '#x_viewport': 'Please provide the value for #x_viewport (Expected type: number)? Note: x-axis value of viewport of the playarea and it is mandatory value tag', '#y_viewport': 'Please provide the value for #y_viewport (Expected type: number)? Note: y-axis value of viewport of the playarea and it is mandatory value tag', '#w_viewport': 'Please provide the value for #w_viewport (Expected type: number)? Note: width value of viewport of the playarea and it is mandatory value tag', '#h_viewport': 'Please provide the value for #h_viewport (Expected type: number)? Note: height value of viewport of the playarea and it is mandatory value tag', 'near_cp': 'Please provide the value for near_cp (Expected type: number)? Note: Used to represent near clipping plane with value ranging from 0.0 to 1000000', 'far_cp': 'Please provide the value for far_cp (Expected type: number)? Note: Used to represent far clipping plane with value ranging from 0.0 to 1000000', '_horizon': 'Please provide the value for _horizon (Expected type: boolean)? Note: true for yes, false for no. This is to set horizon sun to map the terrian with real world', '_dof': 'Please provide the value for _dof (Expected type: number)? Note: accepts two values 3 and 6. Throw errors for the rest of the values', '_skybox': 'Please provide the value for _skybox (Expected type: number)? Note: accepts two values 3 and 6. Throw errors for the rest of the values', 'type': 'Please provide the value for type (Expected type: string)? Note: Is the scene single user type or a multi user type. Use single or multi for value tag', 'raycast': 'Please provide the value for raycast (Expected type: boolean)? Note: It is a Physics function that projects a Ray into the scene, returning a boolean value if a target was successfully hit. It is a true or false flag', 'raydistance': \"Please provide the value for raydistance (Expected type: number)? Note: It is the distance represents the magnitude of the vector from the ray's origin to the impact point. Value 10 is \", 'raythinkness': 'Please provide the value for raythinkness (Expected type: number)? Note: It is the thickness of ray with minimum value as 1 and max value as 10', 'raycolor': 'Please provide the value for raycolor (Expected type: string)? Note: It is the color or ray casted in the Scene. Use color name and use transparent for no color', 'raytype': 'Please provide the value for raytype (Expected type: string)? Note: It is a type of ray which can be a straightline, curve line, wave etc.', 'value': 'Please provide the value for value (Expected type: number)? Note: value of earth gravity. Default is 10.', '_interaction': 'Please provide the value for _interaction (Expected type: boolean)? Note: This describes the interaction capacity in the scene. True for interactions on and False for no interactions', '#value': 'Please provide the value for #value (Expected type: boolean)? Note: True if there is a scene within a scene.', '#scenecount': 'Please provide the value for #scenecount (Expected type: number)? Note: Number of scenes as nested scenes', '#sid_order': 'Please provide the value for #sid_order (Expected type: number)? Note: the order of the nested scenes', '_audio': 'Please provide the value for _audio (Expected type: boolean)? Note: true for spatial audio, false for no spatial audio', '_timeline': 'Please provide the value for _timeline (Expected type: boolean)? Note: true for timed scene with dynamic events, false for a static scene with static events', '_Opttxt1': 'Please provide the value for _Opttxt1 (Expected type: string)? Note: For user optional text', '@context_mock': 'Please provide the value for @context_mock (Expected type: string)? Note: For external reference URLs like figma screens or other resource links', 'usertype': 'How many Please provide the value for usertype? Please provide details for each. Defines the scene as Single user or Multi-user scene along with additional values like uplayarea to define the length, breadth and height of the user along with initialupos value in x,y,z coordinates', '#length_uplayarea': 'Please provide the value for #length_uplayarea (Expected type: number)? Note: The length of a user playarea', '#breadth_uplayarea': 'Please provide the value for #breadth_uplayarea (Expected type: number)? Note: breadth of a user playarea', '#height_uplayarea': 'Please provide the value for #height_uplayarea (Expected type: number)? Note: height of a user playarea', '#x_initialupos': 'Please provide the value for #x_initialupos (Expected type: number)? Note: x-axis  of a user in this user play area', '#y_initialupos': 'Please provide the value for #y_initialupos (Expected type: number)? Note: y-axis of a user in this user play area', '#z_initialupos': 'Please provide the value for #z_initialupos (Expected type: number)? Note: z-axis of a user in this user play area', '#x_uplayareacenter': 'Please provide the value for #x_uplayareacenter (Expected type: number)? Note: x-axis initial position of a user in this user play area', '#y_uplayareacenter': 'Please provide the value for #y_uplayareacenter (Expected type: number)? Note: x-axis initial position of a user in this user play area', '#z_uplayareacenter': 'Please provide the value for #z_uplayareacenter (Expected type: number)? Note: z-axis initial position of a user in this user play area'}\n"
     ]
    }
   ],
   "source": [
    "print(questions)"
   ]
  },
  {
   "cell_type": "code",
   "execution_count": 19,
   "metadata": {},
   "outputs": [
    {
     "name": "stdout",
     "output_type": "stream",
     "text": [
      "1615\n"
     ]
    }
   ],
   "source": [
    "token_count = 0\n",
    "for field, question in questions.items():\n",
    "    tokens = encoding.encode(question)\n",
    "    token_count += len(tokens)\n",
    "\n",
    "print(token_count)"
   ]
  },
  {
   "cell_type": "code",
   "execution_count": null,
   "metadata": {},
   "outputs": [
    {
     "name": "stdout",
     "output_type": "stream",
     "text": [
      "Filling field '_scenename'\n",
      "Answer: The value for _scenename is \"Chess VR Scene\".\n",
      "Filling field '_sid'\n",
      "Answer: I don't know.\n",
      "Filling field '_slabel'\n",
      "Answer: The chess game scene is set on a classic 8x8 chessboard with alternating light and dark squares, typically in white and brown or white and green. Each player controls a set of 16 pieces, including a king, queen, rooks, bishops, knights, and pawns, arranged in a specific formation on their respective ranks. The immersive environment captures the essence of competitive chess, reflecting its rich history and strategic depth.\n",
      "Filling field '#pid'\n",
      "Answer: I don't know.\n",
      "Filling field '#length_playarea'\n",
      "Answer: I don't know.\n",
      "Filling field '#breadth_playarea'\n",
      "Answer: The value for #breadth_playarea should be \"8 squares\" to reflect the 8 columns in the chess game setup.\n",
      "Filling field '#height_playarea'\n",
      "Answer: The value for #height_playarea should be set to \"1.5 meters\" to ensure an adequate vertical space for player interactions in the VR chess game scene.\n",
      "Filling field '#x_scenecenter'\n",
      "Answer: I don't know.\n",
      "Filling field '#y_scenecenter'\n",
      "Answer: The value for #y_scenecenter should be 0, as it represents the center point of the play area on the y-axis, which is typically set to zero in a symmetrical game like chess. This positioning allows for an equal perspective for both players. If further adjustments are needed based on specific scene dimensions, please provide those details.\n",
      "Filling field '#z_scenecenter'\n",
      "Answer: I don't know.\n",
      "Filling field 'IsSceneObject'\n",
      "Answer: The value for IsSceneObject should be true, as the initial camera is considered a scene object.\n",
      "Filling field 'trackingorigin'\n",
      "Answer: The value for trackingorigin should be \"floor\". This indicates that the initial camera will be set based on the physical real-world ground level.\n",
      "Filling field '#x_initialcamerapos'\n",
      "Answer: I don't know.\n",
      "Filling field '#y_initialcamerapos'\n",
      "Answer: I don't know.\n",
      "Filling field '#z_initialcamerapos'\n",
      "Answer: I don't know.\n",
      "Filling field '#x_viewport'\n",
      "Answer: The value for #x_viewport should be 8, which corresponds to the width of the chessboard in units that can represent each square on the 8x8 grid. This ensures that the viewport accurately reflects the dimensions of the play area for the chess game scene.\n",
      "Filling field '#y_viewport'\n",
      "Answer: I don't know.\n",
      "Filling field '#w_viewport'\n",
      "Answer: I don't know.\n",
      "Filling field '#h_viewport'\n",
      "Answer: I don't know.\n",
      "Filling field 'near_cp'\n",
      "Answer: I don't know.\n",
      "Filling field 'far_cp'\n",
      "Answer: I don't know.\n",
      "Filling field '_horizon'\n",
      "Answer: I don't know.\n",
      "Filling field '_dof'\n",
      "Answer: The value for _dof should be either 3 or 6. Any other value will throw an error. Please specify one of these two acceptable values.\n",
      "Filling field '_skybox'\n",
      "Answer: The value for _skybox should be set to 3, as it is one of the accepted values.\n",
      "Filling field 'type'\n",
      "Answer: The value for type is \"single\".\n",
      "Filling field 'raycast'\n",
      "Answer: The value for raycast should be set to true, as it indicates that the ray will successfully project into the scene to check for any target interactions.\n",
      "Filling field 'raydistance'\n",
      "Answer: The value for raydistance should be set to 10.\n",
      "Filling field 'raythinkness'\n",
      "Answer: The value for raythinkness should be set to a number between 1 and 10. A suitable value could be 5, which provides a balanced thickness for raycasting in the VR chess game scene. However, you may adjust it based on the specific visual and interaction needs of your application.\n",
      "Filling field 'raycolor'\n",
      "Answer: The value for raycolor should be \"transparent\" as there is no specific color mentioned for the ray casted in the scene.\n",
      "Filling field 'raytype'\n",
      "Answer: The value for raytype should be \"straightline\" as it represents the direct path of movement for pieces on a chessboard.\n",
      "Filling field 'value'\n",
      "Answer: The value for earth gravity is 10.\n",
      "Filling field '_interaction'\n",
      "Answer: True\n",
      "Filling field '#value'\n",
      "Answer: I don't know.\n",
      "Filling field '#scenecount'\n",
      "Answer: The value for #scenecount is 1.\n",
      "Filling field '#sid_order'\n",
      "Answer: I don't know.\n",
      "Filling field '_audio'\n",
      "Answer: I don't know.\n",
      "Filling field '_timeline'\n",
      "Answer: The value for _timeline should be true, indicating a timed scene with dynamic events. This aligns with the chess game mechanics where players must manage their time using a chess clock. Therefore, the scene will have time-sensitive interactions and outcomes.\n",
      "Filling field '_Opttxt1'\n",
      "Answer: \"_Opttxt1\" could be filled with the value: \"Experience the strategic depth and historical richness of chess in an immersive virtual reality environment.\"\n",
      "Filling field '@context_mock'\n",
      "Answer: I don't know.\n",
      "Filling field 'usertype'\n",
      "Answer: The user type for the chess game scene can be defined as \"Single user.\" For the play area, dimensions can be set to a length of 2 meters, a breadth of 2 meters, and a height of 2.5 meters. The initial user position (initialupos) can be set at coordinates (0, 0, 1.5) in the scene.\n",
      "Filling field '#length_uplayarea'\n",
      "Answer: I don't know.\n",
      "Filling field '#breadth_uplayarea'\n",
      "Answer: The breadth of a user play area for a chess game scene should be set to 2 meters. This accommodates the 8x8 grid of the chessboard and provides sufficient space for player movement. A larger area may enhance immersion and interaction.\n",
      "Filling field '#height_uplayarea'\n",
      "Answer: I don't know.\n",
      "Filling field '#x_initialupos'\n",
      "Answer: The value for #x_initialupos should be set to 0, as this represents the starting position of the user on the x-axis in the play area. This aligns with the common setup of the chessboard where the light square is positioned at the right-hand corner nearest to each player. Therefore, the user begins at the leftmost side of the board.\n",
      "Filling field '#y_initialupos'\n",
      "Answer: I don't know.\n",
      "Filling field '#z_initialupos'\n",
      "Answer: I don't know.\n",
      "Filling field '#x_uplayareacenter'\n",
      "Answer: I don't know.\n",
      "Filling field '#y_uplayareacenter'\n",
      "Answer: The value for #y_uplayareacenter is not provided in the retrieved context. Therefore, I don't know the answer.\n",
      "Filling field '#z_uplayareacenter'\n",
      "Answer: I don't know.\n"
     ]
    }
   ],
   "source": [
    "prompt_text = 'You are tasked with generating the VR requirements for a chess game scene. Based on the given JSON structure, you should fill in the required fields by answering questions related to the environment setup, user interactions, game mechanics, user interface, and immersion enhancements. Your responses should provide detailed specifications that will be used to populate the scene configuration.'\n",
    "\n",
    "rag_chain = (\n",
    "    {\"context\": retriever | format_docs, \"question\": RunnablePassthrough()}\n",
    "    | prompt\n",
    "    | llm\n",
    "    | StrOutputParser()\n",
    ")\n",
    "\n",
    "responses = []\n",
    "for field, question in questions.items():\n",
    "    print(f\"Filling field '{field}'\")\n",
    "    full_prompt = f\"{prompt_text}\\n\\nQuestion: {question}\"\n",
    "    response = rag_chain.invoke(full_prompt)\n",
    "    print(f\"Answer: {response}\")\n",
    "    responses.append(response)\n"
   ]
  },
  {
   "cell_type": "code",
   "execution_count": null,
   "metadata": {},
   "outputs": [
    {
     "name": "stdout",
     "output_type": "stream",
     "text": [
      "Filling field '_scenename'\n",
      "Answer: The VR scene name should be \"Virtual Chess Arena.\"\n",
      "Filling field '_sid'\n",
      "Answer: I don't know.\n",
      "Filling field '_slabel'\n",
      "Answer: The chess game scene is set on an 8x8 grid board featuring alternating light and dark squares, traditionally in colors like white and brown or green. Each player controls 16 pieces: one king, one queen, two rooks, two bishops, two knights, and eight pawns, arranged according to established placement rules. The immersive environment allows players to engage in strategic gameplay, reflecting the rich history and cultural significance of chess.\n",
      "Filling field '#pid'\n",
      "Answer: I don't know.\n",
      "Filling field '#length_playarea'\n",
      "Answer: I don't know.\n",
      "Filling field '#breadth_playarea'\n",
      "Answer: The value for #breadth_playarea is \"8 squares\".\n",
      "Filling field '#height_playarea'\n",
      "Answer: I don't know.\n",
      "Filling field '#x_scenecenter'\n",
      "Answer: The value for #x_scenecenter should be 0, as it represents the x-axis value of the scene center in a standard chessboard setup. This is based on the chessboard being positioned symmetrically. Thus, the center of an 8x8 grid would be at the origin point (0,0).\n",
      "Filling field '#y_scenecenter'\n",
      "Answer: The value for #y_scenecenter should be 0, as the scene center is typically positioned at the midpoint of the chessboard on the y-axis. This ensures an equal distance to all ranks of the board.\n",
      "Filling field '#z_scenecenter'\n",
      "Answer: I don't know.\n",
      "Filling field 'IsSceneObject'\n",
      "Answer: The value for IsSceneObject should be true. This indicates that the camera is set as a scene object in the VR chess game setup.\n",
      "Filling field 'trackingorigin'\n",
      "Answer: The value for trackingorigin should be \"floor\". This indicates that the initial camera in the scene is set to the physical real-world ground level. The IsSceneObject attribute would typically be set to true for this configuration.\n",
      "Filling field '#x_initialcamerapos'\n",
      "Answer: I don't know.\n",
      "Filling field '#y_initialcamerapos'\n",
      "Answer: I don't know.\n",
      "Filling field '#z_initialcamerapos'\n",
      "Answer: I don't know.\n",
      "Filling field '#x_viewport'\n",
      "Answer: The value for #x_viewport should be set to 8, as the chessboard is an 8×8 grid. This represents the x-axis value of the viewport for the play area.\n",
      "Filling field '#y_viewport'\n",
      "Answer: The value for #y_viewport should be set to 8, which corresponds to the height of the chessboard in terms of the number of ranks.\n",
      "Filling field '#w_viewport'\n",
      "Answer: The value for #w_viewport, representing the width of the viewport of the play area, is typically set to 800. This value can be adjusted based on the desired resolution and user experience. However, specific requirements may vary based on the VR setup being used.\n",
      "Filling field '#h_viewport'\n",
      "Answer: I don't know.\n",
      "Filling field 'near_cp'\n",
      "Answer: I don't know.\n",
      "Filling field 'far_cp'\n",
      "Answer: I don't know.\n",
      "Filling field '_horizon'\n",
      "Answer: I don't know.\n",
      "Filling field '_dof'\n",
      "Answer: The value for _dof should be 6, as it is a valid option according to the requirements. The other accepted value is 3, while any other values would result in an error.\n",
      "Filling field '_skybox'\n",
      "Answer: The value for _skybox should be 3.\n",
      "Filling field 'type'\n",
      "Answer: The value for type is \"multi\".\n",
      "Filling field 'raycast'\n",
      "Answer: The value for raycast is true. This indicates that the raycast function should successfully project a ray into the scene and return a boolean value if a target was hit. Therefore, raycasting is enabled for the chess game scene.\n",
      "Filling field 'raydistance'\n",
      "Answer: The value for raydistance is 10.\n",
      "Filling field 'raythinkness'\n",
      "Answer: I don't know.\n",
      "Filling field 'raycolor'\n",
      "Answer: The value for raycolor should be \"transparent\" as there is no specific color mentioned for the ray in the provided context.\n",
      "Filling field 'raytype'\n",
      "Answer: The value for raytype should be \"straightline\" as it represents the direct path of interaction in a chess game scene.\n",
      "Filling field 'value'\n",
      "Answer: The value for earth gravity is 10.\n",
      "Filling field '_interaction'\n",
      "Answer: True\n",
      "Filling field '#value'\n",
      "Answer: False. There is no indication that there is a scene within a scene in the provided context. The information focuses on the game of chess, its history, and rules, without mentioning any nested scenes.\n",
      "Filling field '#scenecount'\n",
      "Answer: I don't know.\n",
      "Filling field '#sid_order'\n",
      "Answer: The value for #sid_order is 1. This represents the order in which the chess game scene is set up in the VR environment. It signifies the primary scene in the nested structure.\n",
      "Filling field '_audio'\n",
      "Answer: I don't know.\n",
      "Filling field '_timeline'\n",
      "Answer: The value for _timeline should be true, as chess games typically involve time controls that create dynamic events, such as players losing if their time runs out. The presence of time controls indicates that the scene is not static. Therefore, the game includes timed elements that enhance the gameplay experience.\n",
      "Filling field '_Opttxt1'\n",
      "Answer: The value for _Opttxt1 could be: \"Explore the rich history of chess and its influence on culture, mathematics, and technology.\"\n",
      "Filling field '@context_mock'\n",
      "Answer: I don't know.\n",
      "Filling field 'usertype'\n",
      "Answer: The user type for the chess game scene can be defined as \"Single user\" or \"Multi-user.\" For a single user, the play area could be set to a standard dimension, such as 2m x 2m x 2m, with initial user position at coordinates (0, 0, 0). For a multi-user setup, similar dimensions can apply, but the initial user positions would vary based on the number of participants involved.\n",
      "Filling field '#length_uplayarea'\n",
      "Answer: I don't know.\n",
      "Filling field '#breadth_uplayarea'\n",
      "Answer: The breadth of a user play area for a chess game scene can be calculated based on the size of the chessboard. Given that the chessboard is an 8x8 grid with each square typically measuring 2 inches, the total breadth would be 16 inches (or approximately 0.4 meters). Therefore, the value for #breadth_uplayarea is 0.4.\n",
      "Filling field '#height_uplayarea'\n",
      "Answer: I don't know.\n",
      "Filling field '#x_initialupos'\n",
      "Answer: I don't know.\n",
      "Filling field '#y_initialupos'\n",
      "Answer: I don't know.\n",
      "Filling field '#z_initialupos'\n",
      "Answer: I don't know.\n",
      "Filling field '#x_uplayareacenter'\n",
      "Answer: I don't know.\n",
      "Filling field '#y_uplayareacenter'\n",
      "Answer: I don't know.\n",
      "Filling field '#z_uplayareacenter'\n",
      "Answer: I don't know.\n"
     ]
    }
   ],
   "source": [
    "prompt_text = 'You are tasked with generating the VR requirements for a chess game scene. Based on the given JSON structure, you should fill in the required fields by answering questions related to the environment setup, user interactions, game mechanics, user interface, and immersion enhancements. Keep your responses brief.'\n",
    "\n",
    "rag_chain = (\n",
    "    {\"context\": retriever | format_docs, \"question\": RunnablePassthrough()}\n",
    "    | prompt\n",
    "    | llm\n",
    "    | StrOutputParser()\n",
    ")\n",
    "\n",
    "responses = []\n",
    "for field, question in questions.items():\n",
    "    print(f\"Filling field '{field}'\")\n",
    "    full_prompt = f\"{prompt_text}\\n\\nQuestion: {question}\"\n",
    "    response = rag_chain.invoke(full_prompt)\n",
    "    print(f\"Answer: {response}\")\n",
    "    responses.append(response)\n"
   ]
  },
  {
   "cell_type": "code",
   "execution_count": 21,
   "metadata": {},
   "outputs": [
    {
     "name": "stdout",
     "output_type": "stream",
     "text": [
      "Chess is a two-player board game played on an 8×8 grid, involving strategic moves of sixteen pieces per player, including a king and queen. It has roots in the seventh-century Indian game chaturanga and evolved through Persia to Europe, with modern rules established by the end of the 15th century. Today, chess is governed internationally by FIDE and is one of the most popular games worldwide, with a rich body of theory and competitive history.\n"
     ]
    }
   ],
   "source": [
    "print(rag_chain.invoke('Tell me about chess'))"
   ]
  }
 ],
 "metadata": {
  "kernelspec": {
   "display_name": "Python 3",
   "language": "python",
   "name": "python3"
  },
  "language_info": {
   "codemirror_mode": {
    "name": "ipython",
    "version": 3
   },
   "file_extension": ".py",
   "mimetype": "text/x-python",
   "name": "python",
   "nbconvert_exporter": "python",
   "pygments_lexer": "ipython3",
   "version": "3.10.15"
  }
 },
 "nbformat": 4,
 "nbformat_minor": 2
}
